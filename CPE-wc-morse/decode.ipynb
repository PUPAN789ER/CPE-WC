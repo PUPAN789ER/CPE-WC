{
 "cells": [
  {
   "cell_type": "code",
   "execution_count": null,
   "metadata": {},
   "outputs": [],
   "source": [
    "import sys\n",
    "morse_code = { '-...': 'B', '-..-': 'X', '.-.': 'R', '.--': 'W', '.-': 'A', '..': 'I'\n",
    "              , '..-.': 'F', '.': 'E', '.-..': 'L', '...': 'S', '..-': 'U' , '-.-': 'K', '-..': 'D' , '---': 'O', '.--.': 'P'\n",
    "             , '--': 'M', '-.': 'N', '....': 'H',  '...-': 'V' , '--.': 'G', '--.-': 'Q', '--..': 'Z', '-.-.': 'C', '-.--': 'Y', '-': 'T', '.---': 'J'\n",
    "              , '--.': 'ก', '-.-.': 'ข,ฃ'}\n",
    "\n",
    "\n",
    "\n",
    "def decodeMorse(morseCode):\n",
    "\n",
    "    morseCodeDict = morseCode.split(' ')\n",
    "    \n",
    "    output = []\n",
    "    \n",
    "    for morse in morseCodeDict:\n",
    "        try:\n",
    "            output.append(morse_code[morse])\n",
    "        except:\n",
    "            if morse == ' ':\n",
    "                output.append(' ')\n",
    "            else:\n",
    "                pass\n",
    "        \n",
    "    return ' '.join(output)\n",
    "\n",
    "\n",
    "if __name__ == '__main__':\n",
    "\n",
    "    while 1:\n",
    "\n",
    "        print(decodeMorse(input('To decode: ')))\n",
    "        \n",
    "        user_input = input(' button q = Exit):')\n",
    "\n",
    "        if user_input == 'q':\n",
    "            print(\"Good Bye\")\n",
    "            print(\"Morse EnCode Program Finished!!\")\n",
    "            break\n",
    "        \n",
    "    \n",
    "        \n"
   ]
  }
 ],
 "metadata": {
  "kernelspec": {
   "display_name": "Python 3",
   "language": "python",
   "name": "python3"
  },
  "language_info": {
   "codemirror_mode": {
    "name": "ipython",
    "version": 3
   },
   "file_extension": ".py",
   "mimetype": "text/x-python",
   "name": "python",
   "nbconvert_exporter": "python",
   "pygments_lexer": "ipython3",
   "version": "3.7.3"
  }
 },
 "nbformat": 4,
 "nbformat_minor": 2
}

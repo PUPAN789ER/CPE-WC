{
 "cells": [
  {
   "cell_type": "code",
   "execution_count": null,
   "metadata": {},
   "outputs": [],
   "source": [
    "def encryption():\n",
    "    print(\"Encryption\")\n",
    "\n",
    "    print(\"Message can only be Lower or Uppercase alphabet\")\n",
    "    msg = input(\"Enter message: \")\n",
    "    key = int(input(\"Enter key(0-25): \"))  \n",
    "    encrypted_text = \"\"\n",
    "\n",
    "    for i in range(len(msg)):\n",
    "        if ord(msg[i]) == 32:  \n",
    "            encrypted_text += chr(ord(msg[i])) \n",
    "\n",
    "        elif ord(msg[i]) + key > 122:\n",
    "            \n",
    "            temp = (ord(msg[i]) + key) - 122  \n",
    "            encrypted_text += chr(96+temp)\n",
    "\n",
    "        elif (ord(msg[i]) + key > 90) and (ord(msg[i]) <= 96):\n",
    "            temp = (ord(msg[i]) + key) - 90\n",
    "            encrypted_text += chr(64+temp)\n",
    "\n",
    "        else:\n",
    "            encrypted_text += chr(ord(msg[i]) + key)\n",
    "            \n",
    "    print(\"Encrypted: \" + encrypted_text)\n",
    "\n",
    "\n",
    "def main():\n",
    "    Input = int(input(encryption()))\n",
    "if __name__ == \"__main__\":\n",
    "    main()"
   ]
  }
 ],
 "metadata": {
  "kernelspec": {
   "display_name": "Python 3",
   "language": "python",
   "name": "python3"
  },
  "language_info": {
   "codemirror_mode": {
    "name": "ipython",
    "version": 3
   },
   "file_extension": ".py",
   "mimetype": "text/x-python",
   "name": "python",
   "nbconvert_exporter": "python",
   "pygments_lexer": "ipython3",
   "version": "3.7.3"
  }
 },
 "nbformat": 4,
 "nbformat_minor": 2
}

{
 "cells": [
  {
   "cell_type": "code",
   "execution_count": null,
   "metadata": {},
   "outputs": [
    {
     "name": "stdout",
     "output_type": "stream",
     "text": [
      "Decryption\n",
      "Message can only be Lower or Uppercase alphabet\n",
      "Enter encrypted Text: fqj\n",
      "Enter key(0-25): 2\n",
      "Decrypted Text: doh\n"
     ]
    }
   ],
   "source": [
    "def decryption():\n",
    "    print(\"Decryption\")\n",
    "\n",
    "    print(\"Message can only be Lower or Uppercase alphabet\")\n",
    "    encrp_msg = input(\"Enter encrypted Text: \")\n",
    "    decrp_key = int(input(\"Enter key(0-25): \"))\n",
    "\n",
    "    decrypted_text = \"\"\n",
    "\n",
    "    for i in range(len(encrp_msg)):\n",
    "        if ord(encrp_msg[i]) == 32:\n",
    "            decrypted_text += chr(ord(encrp_msg[i]))\n",
    "\n",
    "        elif ((ord(encrp_msg[i]) - decrp_key) < 97) and ((ord(encrp_msg[i]) - decrp_key) > 90):\n",
    "            temp = (ord(encrp_msg[i]) - decrp_key) + 26\n",
    "            decrypted_text += chr(temp)\n",
    "\n",
    "        elif (ord(encrp_msg[i]) - decrp_key) < 65:\n",
    "            temp = (ord(encrp_msg[i]) - decrp_key) + 26\n",
    "            decrypted_text += chr(temp)\n",
    "\n",
    "        else:\n",
    "            decrypted_text += chr(ord(encrp_msg[i]) - decrp_key)\n",
    "\n",
    "    print(\"Decrypted Text: \" + decrypted_text)\n",
    "\n",
    "\n",
    "def main():\n",
    "    Input = int(input(decryption()))\n",
    "        \n",
    "if __name__ == \"__main__\":\n",
    "    main()"
   ]
  }
 ],
 "metadata": {
  "kernelspec": {
   "display_name": "Python 3",
   "language": "python",
   "name": "python3"
  },
  "language_info": {
   "codemirror_mode": {
    "name": "ipython",
    "version": 3
   },
   "file_extension": ".py",
   "mimetype": "text/x-python",
   "name": "python",
   "nbconvert_exporter": "python",
   "pygments_lexer": "ipython3",
   "version": "3.7.3"
  }
 },
 "nbformat": 4,
 "nbformat_minor": 2
}
